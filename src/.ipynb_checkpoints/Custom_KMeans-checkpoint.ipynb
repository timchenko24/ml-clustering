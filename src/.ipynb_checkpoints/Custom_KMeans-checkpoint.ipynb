{
 "cells": [
  {
   "cell_type": "code",
   "execution_count": 1,
   "metadata": {},
   "outputs": [],
   "source": [
    "import pandas as pd\n",
    "import numpy as np\n",
    "import random as rd\n",
    "import matplotlib.pyplot as plt\n",
    "import seaborn as sns\n",
    "from copy import deepcopy"
   ]
  },
  {
   "cell_type": "code",
   "execution_count": 2,
   "metadata": {},
   "outputs": [],
   "source": [
    "plt.style.use('seaborn-whitegrid')"
   ]
  },
  {
   "cell_type": "markdown",
   "metadata": {},
   "source": [
    "ds_1 = np.random.randn(100,2) + np.array([1,1])\n",
    "ds_2 = np.random.randn(100,2) + np.array([6,4])"
   ]
  },
  {
   "cell_type": "markdown",
   "metadata": {},
   "source": [
    "data = pd.DataFrame(np.concatenate((ds_1, ds_2), axis = 0))"
   ]
  },
  {
   "cell_type": "markdown",
   "metadata": {
    "scrolled": true
   },
   "source": [
    "plt.scatter(data[0], data[1], s=20)"
   ]
  },
  {
   "cell_type": "code",
   "execution_count": 3,
   "metadata": {},
   "outputs": [],
   "source": [
    "def euclidean_distance(x1, x2):\n",
    "    return np.sqrt(np.sum((x1 - x2) ** 2, axis=1))"
   ]
  },
  {
   "cell_type": "code",
   "execution_count": 4,
   "metadata": {},
   "outputs": [],
   "source": [
    "def custom_KMeans(k, dataset, n_iter=100):\n",
    "    centroids = dataset.sample(n=k).to_numpy()\n",
    "    dataset = dataset.to_numpy()\n",
    "    \n",
    "    output = {}\n",
    "    \n",
    "    for i in range(n_iter):\n",
    "        distance = np.array([]).reshape(dataset.shape[0], 0)\n",
    "\n",
    "        for i in range(k):\n",
    "            dist = euclidean_distance(dataset, centroids[i,:])\n",
    "            distance = np.c_[distance, dist]\n",
    "\n",
    "        minimum = np.argmin(distance, axis=1) + 1\n",
    "\n",
    "        for i in range(k):\n",
    "            output[i+1] = np.array([]).reshape(2,0)\n",
    "\n",
    "        for i in range(dataset.shape[0]):\n",
    "            output[minimum[i]] = np.c_[output[minimum[i]], dataset[i]]\n",
    "\n",
    "        for i in range(k):\n",
    "            output[i+1] = output[i+1].T\n",
    "\n",
    "        for i in range(k):\n",
    "            centroids[i,:] = np.mean(output[i+1], axis=0)\n",
    "\n",
    "    return output, centroids"
   ]
  },
  {
   "cell_type": "code",
   "execution_count": 5,
   "metadata": {},
   "outputs": [],
   "source": [
    "def visualize(k, clusters, centroids, xlabel, ylabel):\n",
    "    for k in range(k):\n",
    "        sns.scatterplot(x=clusters[k+1][:,0], y=clusters[k+1][:,1], s=50)\n",
    "\n",
    "    sns.scatterplot(x=centroids[:,0], y=centroids[:,1], s=100, color='black', marker='x', linewidth=1.2)\n",
    "    plt.xlabel(xlabel)\n",
    "    plt.ylabel(ylabel)\n",
    "    plt.show()"
   ]
  },
  {
   "cell_type": "markdown",
   "metadata": {},
   "source": [
    "k = 6\n",
    "clusters, centroids = custom_KMeans(k, data, distance='manhattan')"
   ]
  },
  {
   "cell_type": "markdown",
   "metadata": {},
   "source": [
    "visualize(k, clusters, centroids)"
   ]
  },
  {
   "cell_type": "code",
   "execution_count": null,
   "metadata": {},
   "outputs": [],
   "source": []
  }
 ],
 "metadata": {
  "kernelspec": {
   "display_name": "Python [conda env:ml_env] *",
   "language": "python",
   "name": "conda-env-ml_env-py"
  },
  "language_info": {
   "codemirror_mode": {
    "name": "ipython",
    "version": 3
   },
   "file_extension": ".py",
   "mimetype": "text/x-python",
   "name": "python",
   "nbconvert_exporter": "python",
   "pygments_lexer": "ipython3",
   "version": "3.7.7"
  }
 },
 "nbformat": 4,
 "nbformat_minor": 4
}
