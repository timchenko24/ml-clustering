{
 "cells": [
  {
   "cell_type": "code",
   "execution_count": 1,
   "metadata": {},
   "outputs": [],
   "source": [
    "length_profit = {\n",
    "    'query': \"select vessel.length, voyage.voyage_profit, type.type, flag.flag from core_voyage as voyage \"\n",
    "             \"inner join core_vessel as vessel on voyage.mmsi_id = vessel.mmsi \"\n",
    "             \"inner join core_vesseltype as type on type.id = vessel.type_id \"\n",
    "             \"inner join core_vesselflag as flag on flag.id = vessel.flag_id\",\n",
    "    'column_names': [\"length\", \"profit\", \"type\", \"flag\"]\n",
    "}"
   ]
  },
  {
   "cell_type": "code",
   "execution_count": 2,
   "metadata": {},
   "outputs": [],
   "source": [
    "type_flag = {\n",
    "    'query': \"select c.type, b.flag from core_vessel as a \"\n",
    "             \"inner join core_vesselflag as b on a.flag_id = b.id \"\n",
    "             \"inner join core_vesseltype as c on a.type_id = c.id\",\n",
    "    'column_names': [\"type\", \"flag\"]\n",
    "}"
   ]
  },
  {
   "cell_type": "code",
   "execution_count": 3,
   "metadata": {},
   "outputs": [],
   "source": [
    "dwt_fuel = {\n",
    "    'query': \"select vessel.dwt, voyage.fuel_costs, type.type from core_voyage as voyage \"\n",
    "             \"inner join core_vessel as vessel on voyage.mmsi_id = vessel.mmsi \"\n",
    "             \"inner join core_vesseltype as type on type.id = vessel.type_id\",\n",
    "    'column_names': [\"dwt\", \"fuel_costs\", \"type\"]\n",
    "}"
   ]
  },
  {
   "cell_type": "code",
   "execution_count": 4,
   "metadata": {},
   "outputs": [],
   "source": [
    "grt_month = {\n",
    "    'query': \"select vessel.grt, date.month from core_voyage as voyage \"\n",
    "             \"inner join core_vessel as vessel on voyage.mmsi_id = vessel.mmsi \"\n",
    "             \"inner join core_date as date on voyage.arrival_date_id = date.id\",\n",
    "    'column_names': [\"grt\", \"month\"]\n",
    "}"
   ]
  },
  {
   "cell_type": "code",
   "execution_count": 5,
   "metadata": {},
   "outputs": [],
   "source": [
    "profit_hour = {\n",
    "    'query': \"select voyage.voyage_profit, date.hour from core_voyage as voyage \"\n",
    "             \"inner join core_date as date on voyage.arrival_date_id = date.id\",\n",
    "    'column_names': [\"profit\", \"hour\"]\n",
    "}"
   ]
  },
  {
   "cell_type": "code",
   "execution_count": 6,
   "metadata": {},
   "outputs": [],
   "source": [
    "costs_hour = {\n",
    "    'query': \"select voyage.total_costs, date.hour from core_voyage as voyage \"\n",
    "             \"inner join core_date as date on voyage.arrival_date_id = date.id\",\n",
    "    'column_names': [\"costs\", \"hour\"]\n",
    "}"
   ]
  },
  {
   "cell_type": "code",
   "execution_count": 7,
   "metadata": {},
   "outputs": [],
   "source": [
    "duration_ = {\n",
    "    'query': \"select voyage.total_costs, date.hour from core_voyage as voyage \"\n",
    "             \"inner join core_date as date on voyage.arrival_date_id = date.id\",\n",
    "    'column_names': [\"costs\", \"hour\"]\n",
    "}"
   ]
  },
  {
   "cell_type": "code",
   "execution_count": null,
   "metadata": {},
   "outputs": [],
   "source": []
  }
 ],
 "metadata": {
  "kernelspec": {
   "display_name": "Python [conda env:ml_env] *",
   "language": "python",
   "name": "conda-env-ml_env-py"
  },
  "language_info": {
   "codemirror_mode": {
    "name": "ipython",
    "version": 3
   },
   "file_extension": ".py",
   "mimetype": "text/x-python",
   "name": "python",
   "nbconvert_exporter": "python",
   "pygments_lexer": "ipython3",
   "version": "3.7.7"
  }
 },
 "nbformat": 4,
 "nbformat_minor": 4
}
